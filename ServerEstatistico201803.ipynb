{
 "cells": [
  {
   "cell_type": "markdown",
   "metadata": {},
   "source": [
    "# SERVER SIDE "
   ]
  },
  {
   "cell_type": "code",
   "execution_count": 1,
   "metadata": {},
   "outputs": [],
   "source": [
    "import socket\n",
    "import re\n",
    "import numpy as np\n",
    "import matplotlib.pyplot as plt\n",
    "from mpl_toolkits.mplot3d import Axes3D\n",
    "import time"
   ]
  },
  {
   "cell_type": "code",
   "execution_count": 2,
   "metadata": {},
   "outputs": [],
   "source": [
    "def convert(xlist):\n",
    "    ylist = []\n",
    "    for i in range(len(xlist)):\n",
    "        ylist.append(float(xlist[i]))\n",
    "    return ylist"
   ]
  },
  {
   "cell_type": "code",
   "execution_count": null,
   "metadata": {},
   "outputs": [],
   "source": [
    "HOST=''\n",
    "PORT=7000\n",
    "PASSWORD = '4263748'\n",
    "server_s = socket.socket(socket.AF_INET,socket.SOCK_STREAM)\n",
    "server_s.setsockopt(socket.SOL_SOCKET, socket.SO_REUSEADDR, 1)\n",
    "\n",
    "server_s.bind((HOST, PORT))\n",
    "server_s.listen(1)"
   ]
  },
  {
   "cell_type": "code",
   "execution_count": null,
   "metadata": {},
   "outputs": [],
   "source": [
    "while 1:\n",
    "    con, client = server_s.accept()\n",
    "    print('Connected with {}'.format(client))\n",
    "\n",
    "    if (PASSWORD == con.recv(1024).decode()):\n",
    "        con.send('1'.encode())\n",
    "        print('The password\\'s correct!')\n",
    "\n",
    "        lPoint = convert(re.sub(r'(\\[|\\])', '', con.recv(1024).decode()).split(', '))\n",
    "        \n",
    "        lRebound = convert(re.sub(r'(\\[|\\])', '', con.recv(1024).decode()).split(', '))\n",
    "        \n",
    "        lFTP = convert(re.sub(r'(\\[|\\])', '', con.recv(1024).decode()).split(', '))\n",
    "        \n",
    "        msg = str(np.mean(lPoint))\n",
    "        con.send(msg.encode())#Sending mean of Point mean to client\n",
    "        print('Mean: ', msg)\n",
    "        msg = str(np.median(lPoint))\n",
    "        con.send(msg.encode())#Sending median of Point mean to client\n",
    "        print('Median: ', msg)\n",
    "        msg = str(np.std(lPoint))\n",
    "        con.send(msg.encode())#Sending stardard deviation of Point mean to client\n",
    "        print('Standard Dev.: ', msg)\n",
    "        \n",
    "        msg = str(np.mean(lRebound))\n",
    "        con.send(msg.encode())#Sending mean of Rebound mean to client\n",
    "        print('Mean: ', msg)\n",
    "        msg = str(np.median(lRebound))\n",
    "        con.send(msg.encode())#Sending median of Rebound mean to client\n",
    "        print('Median: ', msg)\n",
    "        msg = str(np.std(lRebound))\n",
    "        con.send(msg.encode())#Sending stardard deviation of Rebound mean to client\n",
    "        print('Standard Dev.: ', msg)\n",
    "        \n",
    "        msg = str(np.mean(lFTP))\n",
    "        con.send(msg.encode())#Sending mean of Free Throw Percentage to client\n",
    "        print('Mean: ', msg)\n",
    "        msg = str(np.median(lFTP))         \n",
    "        con.send(msg.encode())#Sending median of Free Throww Percentage to client\n",
    "        print('Median: ', msg)\n",
    "        msg = str(np.std(lFTP))\n",
    "        con.send(msg.encode())#Sending stardard deviation of Free Throw Percent to client\n",
    "        print('Standard Dev.: ', msg)\n",
    "        \n",
    "        time.sleep(1)\n",
    "        #Gráfico 1:\n",
    "        fig, ax = plt.subplots()\n",
    "        ax.set_title('Distribuição de Frequência de X Média de Pontos')\n",
    "        ax.set_xlabel('Nº de Pontos')\n",
    "        ax.set_ylabel('Frequência')\n",
    "        plt.hist(lPoint,color=\"g\")\n",
    "        #plt.show()\n",
    "        plt.savefig('histogram_0.pdf')\n",
    "        plt.close(fig)\n",
    "        \n",
    "        #Grafico 2:\n",
    "        fig, ax = plt.subplots()\n",
    "        ax.set_title('Distribuição de Frequência de Média de Rebotes')\n",
    "        ax.set_xlabel('Nº de Rebotes')\n",
    "        ax.set_ylabel('Frequência')\n",
    "        plt.hist(lRebound,color=\"b\")\n",
    "        plt.savefig('histogram_1.pdf')\n",
    "        plt.close(fig)\n",
    "        \n",
    "        #Gráfico 3:\n",
    "        fig, ax = plt.subplots()\n",
    "        ax.set_title('Distribuição de Frequência de X Média de Aproveitamento')\n",
    "        ax.set_xlabel('Nº de Aproveitamento')\n",
    "        ax.set_ylabel('Frequência')\n",
    "        plt.hist(lFTP,color=\"r\")\n",
    "        plt.savefig('histogram_2.pdf')\n",
    "        plt.close(fig)\n",
    "        \n",
    "        #Gráfico 4:\n",
    "        axes = Axes3D(plt.figure())\n",
    "        axes.set_title('Média dos Rebotes em relação a Média dos Pontos')\n",
    "        axes.set_xlabel('Média de Pontos')\n",
    "        axes.set_ylabel('Média de Rebotes')\n",
    "        axes.set_zlabel('Id do Jogador')\n",
    "        axes.scatter(lPoint, lRebound, range(0,100), c='blue')\n",
    "        plt.savefig('plot3D_0.pdf')\n",
    "        plt.close(fig)\n",
    "        \n",
    "        #Gráfico 5:\n",
    "        axes = Axes3D(plt.figure())\n",
    "        axes.set_title('Média dos Aproveitamentos em relação a Média dos Pontos')\n",
    "        axes.set_xlabel('Média dos Pontos')\n",
    "        axes.set_ylabel('Média dos Aproveitamentos')\n",
    "        axes.set_zlabel('Id do Jogador')\n",
    "        axes.scatter(lPoint, lFTP, range(0,100), c='red')\n",
    "        plt.savefig('plot3D_1.pdf')\n",
    "        plt.close(fig)\n",
    "        \n",
    "        \n",
    "    else:\n",
    "        con.send('0'.encode())\n",
    "        print('The password\\'s wrong!')\n",
    "        "
   ]
  },
  {
   "cell_type": "code",
   "execution_count": null,
   "metadata": {},
   "outputs": [],
   "source": [
    "lRebound"
   ]
  },
  {
   "cell_type": "code",
   "execution_count": null,
   "metadata": {},
   "outputs": [],
   "source": [
    "ndata"
   ]
  },
  {
   "cell_type": "code",
   "execution_count": null,
   "metadata": {},
   "outputs": [],
   "source": []
  }
 ],
 "metadata": {
  "kernelspec": {
   "display_name": "Python 3",
   "language": "python",
   "name": "python3"
  },
  "language_info": {
   "codemirror_mode": {
    "name": "ipython",
    "version": 3
   },
   "file_extension": ".py",
   "mimetype": "text/x-python",
   "name": "python",
   "nbconvert_exporter": "python",
   "pygments_lexer": "ipython3",
   "version": "3.6.5"
  }
 },
 "nbformat": 4,
 "nbformat_minor": 2
}
