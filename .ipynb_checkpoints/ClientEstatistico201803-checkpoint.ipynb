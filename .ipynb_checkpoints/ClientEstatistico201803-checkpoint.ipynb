{
 "cells": [
  {
   "cell_type": "markdown",
   "metadata": {},
   "source": [
    "# CLIENT SIDE"
   ]
  },
  {
   "cell_type": "code",
   "execution_count": 1,
   "metadata": {},
   "outputs": [],
   "source": [
    "import socket\n",
    "import pandas as pd\n",
    "import numpy as np"
   ]
  },
  {
   "cell_type": "code",
   "execution_count": 2,
   "metadata": {},
   "outputs": [],
   "source": [
    "#Leitura dos dados:\n",
    "nba = pd.read_excel('nba.xls')"
   ]
  },
  {
   "cell_type": "code",
   "execution_count": 3,
   "metadata": {},
   "outputs": [
    {
     "name": "stdout",
     "output_type": "stream",
     "text": [
      "Enter with password: 4263748\n",
      "Tap enter to continue...\n",
      "\n",
      "Mean of Point mean: 19.633999999999997\n",
      "Median of Point mean: 19.15\n",
      "Standard deviation of Point mean: 4.442976929942356\n",
      "\n",
      "Mean of Rebound mean: 7.5889999999999995\n",
      "Median of Rebound mean: 6.9\n",
      "Standard deviation of Rebound mean: 4.546666801075267\n",
      "\n",
      "Mean of Free Throw Percentage: 43.00000000000001\n",
      "Median of Free Throw Percentage: 47.05\n",
      "Standard deviation of Free Throw Percentage: 15.02167101224095\n",
      "\n",
      "Verificar a pasta onde encontra-se o script:\n",
      "* histogram_0.pdf -> Distribuição de Frequência de X Média de Pontos\n",
      "* hsitogram_1.pdf -> Distribuição de Frequência de Média de Rebotes\n",
      "* histogram_2.pdf -> Distribuição de Frequência de X Média de Aproveitamento\n",
      "* plot3D_0.pdf -> Média dos Rebotes em relação a Média dos Pontos\n",
      "* plot3D_1.pdf -> Média dos Aproveitamentos em relação a Média dos Pontos\n"
     ]
    }
   ],
   "source": [
    "HOST = '127.0.0.1'\n",
    "PORT = 7000\n",
    "client_s = socket.socket(socket.AF_INET, socket.SOCK_STREAM)\n",
    "client_s.connect((HOST, PORT))\n",
    "data = input('Enter with password: ')\n",
    "client_s.send(data.encode())#No works with DataFrames\n",
    "if(int(client_s.recv(1024).decode())):\n",
    "    input('Tap enter to continue...\\n')\n",
    "    \n",
    "    msg = str(list(nba['Point mean']))\n",
    "    client_s.send(msg.encode())\n",
    "    \n",
    "    msg = str(list(nba['Rebound mean']))\n",
    "    client_s.send(msg.encode())\n",
    "    \n",
    "    msg = str(list(nba['Free Throw Percentage']))\n",
    "    client_s.send(msg.encode())\n",
    "    \n",
    "    print('Mean of Point mean: {}'.format(client_s.recv(1024).decode()))\n",
    "    print('Median of Point mean: {}'.format(client_s.recv(1024).decode()))\n",
    "    print('Standard deviation of Point mean: {}'.format(client_s.recv(1024).decode()))\n",
    "    \n",
    "    print('\\nMean of Rebound mean: {}'.format(client_s.recv(1024).decode()))\n",
    "    print('Median of Rebound mean: {}'.format(client_s.recv(1024).decode()))\n",
    "    print('Standard deviation of Rebound mean: {}'.format(client_s.recv(1024).decode()))\n",
    "    \n",
    "    print('\\nMean of Free Throw Percentage: {}'.format(client_s.recv(1024).decode()))\n",
    "    print('Median of Free Throw Percentage: {}'.format(client_s.recv(1024).decode()))\n",
    "    print('Standard deviation of Free Throw Percentage: {}'.format(client_s.recv(1024).decode()))\n",
    "    \n",
    "    print('\\nVerificar a pasta onde encontra-se o script:')\n",
    "    print('* histogram_0.pdf -> Distribuição de Frequência de X Média de Pontos')\n",
    "    print('* hsitogram_1.pdf -> Distribuição de Frequência de Média de Rebotes')\n",
    "    print('* histogram_2.pdf -> Distribuição de Frequência de X Média de Aproveitamento')\n",
    "    \n",
    "    print('* plot3D_0.pdf -> Média dos Rebotes em relação a Média dos Pontos')\n",
    "    print('* plot3D_1.pdf -> Média dos Aproveitamentos em relação a Média dos Pontos')\n",
    "    \n",
    "else:\n",
    "    print('Incorreted password!\\nFinishing the connection...')\n",
    "client_s.close()"
   ]
  },
  {
   "cell_type": "code",
   "execution_count": null,
   "metadata": {},
   "outputs": [],
   "source": []
  }
 ],
 "metadata": {
  "kernelspec": {
   "display_name": "Python 3",
   "language": "python",
   "name": "python3"
  },
  "language_info": {
   "codemirror_mode": {
    "name": "ipython",
    "version": 3
   },
   "file_extension": ".py",
   "mimetype": "text/x-python",
   "name": "python",
   "nbconvert_exporter": "python",
   "pygments_lexer": "ipython3",
   "version": "3.6.5"
  }
 },
 "nbformat": 4,
 "nbformat_minor": 2
}
